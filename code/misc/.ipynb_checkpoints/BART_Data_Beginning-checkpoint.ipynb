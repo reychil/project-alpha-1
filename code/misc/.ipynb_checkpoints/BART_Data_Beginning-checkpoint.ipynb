{
 "cells": [
  {
   "cell_type": "markdown",
   "metadata": {},
   "source": [
    "# BART trial"
   ]
  },
  {
   "cell_type": "markdown",
   "metadata": {},
   "source": [
    "This is some initial exploration and analysis related to the Bart Trials. I hope the comments make sense :).  Since this is ipython I've intermixed *bash* code with the *python* code, I hope this is easy to follow."
   ]
  },
  {
   "cell_type": "code",
   "execution_count": 5,
   "metadata": {
    "collapsed": false
   },
   "outputs": [],
   "source": [
    "from __future__ import absolute_import, division, print_function\n",
    "import numpy as np\n",
    "import numpy.linalg as npl\n",
    "import matplotlib.pyplot as plt\n",
    "import nibabel as nib\n",
    "import pandas as pd # new\n",
    "import os # new\n",
    "# the last one is a major thing for ipython notebook, don't include in regular python code\n",
    "%matplotlib inline  "
   ]
  },
  {
   "cell_type": "markdown",
   "metadata": {},
   "source": [
    "Quickly (some rational for additions):\n",
    " - pandas: is good because it has Data frame structures similar to R data.frames (I've already make some CSV files using this library)\n",
    " - os: is good for file location (instead of trying to use $\\texttt{bash}$ into $\\texttt{ipython}$)\n",
    "   - $\\texttt{os.chdir}$ $\\Leftrightarrow$ $\\texttt{cd}$ in $\\texttt{bash}$\n",
    "   - $\\texttt{os.listdir}$ $\\Leftrightarrow$ $\\texttt{ls}$   -> usually I do $\\texttt{np.array(os.listdir(...))}$ if the directory is large\n"
   ]
  },
  {
   "cell_type": "markdown",
   "metadata": {},
   "source": [
    "## Layout of File System, also exploring $\\texttt{os}$ library"
   ]
  },
  {
   "cell_type": "markdown",
   "metadata": {},
   "source": [
    "Below I've provided where my data files are currently located.  You may observe that the numbering of the subjects is missing some numbers."
   ]
  },
  {
   "cell_type": "code",
   "execution_count": 6,
   "metadata": {
    "collapsed": false
   },
   "outputs": [],
   "source": [
    "# setting locations of elements, make sure to change this: (smart idea in general, when dealing with a file system_\n",
    "location_of_data=\"/Users/BenjaminLeRoy/Desktop/1.Fall2015/Stat 159/project/data/ds009/\" \n",
    "location_of_subject001=os.path.join(location_of_data,\"sub001/\")\n",
    "location_of_simuli=\"/Users/BenjaminLeRoy/Desktop/test/4d_fmri/\"\n",
    "location_of_present_3d=\"/Users/BenjaminLeRoy/Desktop/1.Fall2015/Stat 159/project/python_code\"\n",
    "location_of_processed_data=\"/Users/BenjaminLeRoy/Desktop/1.Fall2015/Stat 159/project/processed_data/\""
   ]
  },
  {
   "cell_type": "markdown",
   "metadata": {},
   "source": [
    "### Folders in the large Data Directory (ds009)"
   ]
  },
  {
   "cell_type": "code",
   "execution_count": 7,
   "metadata": {
    "collapsed": false
   },
   "outputs": [
    {
     "ename": "FileNotFoundError",
     "evalue": "[Errno 2] No such file or directory: '/Users/BenjaminLeRoy/Desktop/1.Fall2015/Stat 159/project/data/ds009/'",
     "output_type": "error",
     "traceback": [
      "\u001b[0;31m---------------------------------------------------------------------------\u001b[0m",
      "\u001b[0;31mFileNotFoundError\u001b[0m                         Traceback (most recent call last)",
      "\u001b[0;32m<ipython-input-7-218631f8de3a>\u001b[0m in \u001b[0;36m<module>\u001b[0;34m()\u001b[0m\n\u001b[0;32m----> 1\u001b[0;31m \u001b[0mos\u001b[0m\u001b[0;34m.\u001b[0m\u001b[0mchdir\u001b[0m\u001b[0;34m(\u001b[0m\u001b[0mlocation_of_data\u001b[0m\u001b[0;34m)\u001b[0m\u001b[0;34m\u001b[0m\u001b[0m\n\u001b[0m\u001b[1;32m      2\u001b[0m \u001b[0mnp\u001b[0m\u001b[0;34m.\u001b[0m\u001b[0marray\u001b[0m\u001b[0;34m(\u001b[0m\u001b[0mos\u001b[0m\u001b[0;34m.\u001b[0m\u001b[0mlistdir\u001b[0m\u001b[0;34m(\u001b[0m\u001b[0mlocation_of_data\u001b[0m\u001b[0;34m)\u001b[0m\u001b[0;34m)\u001b[0m\u001b[0;34m\u001b[0m\u001b[0m\n\u001b[1;32m      3\u001b[0m \u001b[0;31m# some subject numbers don't exist (probably removed due to errors mentioned in paper)\u001b[0m\u001b[0;34m\u001b[0m\u001b[0;34m\u001b[0m\u001b[0m\n",
      "\u001b[0;31mFileNotFoundError\u001b[0m: [Errno 2] No such file or directory: '/Users/BenjaminLeRoy/Desktop/1.Fall2015/Stat 159/project/data/ds009/'"
     ]
    }
   ],
   "source": [
    "os.chdir(location_of_data)\n",
    "np.array(os.listdir(location_of_data))\n",
    "# some subject numbers don't exist (probably removed due to errors mentioned in paper)"
   ]
  },
  {
   "cell_type": "markdown",
   "metadata": {},
   "source": [
    "* Ignore the '.DS_Store', we can take it out if we ever want to deal with this as a list (see \"Creating Data Frames\")"
   ]
  },
  {
   "cell_type": "markdown",
   "metadata": {},
   "source": [
    "### Examining 1 subject's data"
   ]
  },
  {
   "cell_type": "markdown",
   "metadata": {},
   "source": [
    "These is the folders in the sub001 folder:"
   ]
  },
  {
   "cell_type": "code",
   "execution_count": 8,
   "metadata": {
    "collapsed": false
   },
   "outputs": [
    {
     "ename": "FileNotFoundError",
     "evalue": "[Errno 2] No such file or directory: '/Users/BenjaminLeRoy/Desktop/1.Fall2015/Stat 159/project/data/ds009/sub001/'",
     "output_type": "error",
     "traceback": [
      "\u001b[0;31m---------------------------------------------------------------------------\u001b[0m",
      "\u001b[0;31mFileNotFoundError\u001b[0m                         Traceback (most recent call last)",
      "\u001b[0;32m<ipython-input-8-b3acafef5037>\u001b[0m in \u001b[0;36m<module>\u001b[0;34m()\u001b[0m\n\u001b[0;32m----> 1\u001b[0;31m \u001b[0mos\u001b[0m\u001b[0;34m.\u001b[0m\u001b[0mchdir\u001b[0m\u001b[0;34m(\u001b[0m\u001b[0mlocation_of_subject001\u001b[0m\u001b[0;34m)\u001b[0m\u001b[0;34m\u001b[0m\u001b[0m\n\u001b[0m\u001b[1;32m      2\u001b[0m \u001b[0mnp\u001b[0m\u001b[0;34m.\u001b[0m\u001b[0marray\u001b[0m\u001b[0;34m(\u001b[0m\u001b[0mos\u001b[0m\u001b[0;34m.\u001b[0m\u001b[0mlistdir\u001b[0m\u001b[0;34m(\u001b[0m\u001b[0mlocation_of_subject001\u001b[0m\u001b[0;34m)\u001b[0m\u001b[0;34m)\u001b[0m\u001b[0;34m\u001b[0m\u001b[0m\n",
      "\u001b[0;31mFileNotFoundError\u001b[0m: [Errno 2] No such file or directory: '/Users/BenjaminLeRoy/Desktop/1.Fall2015/Stat 159/project/data/ds009/sub001/'"
     ]
    }
   ],
   "source": [
    "os.chdir(location_of_subject001)\n",
    "np.array(os.listdir(location_of_subject001))"
   ]
  },
  {
   "cell_type": "markdown",
   "metadata": {},
   "source": [
    "### File Structure for Individual Subject"
   ]
  },
  {
   "cell_type": "markdown",
   "metadata": {},
   "source": [
    "I've tried to help you visualize the data by using the tree function (try in your own terminal), you need your directory to be \"ds009/sub001\""
   ]
  },
  {
   "cell_type": "code",
   "execution_count": 9,
   "metadata": {
    "collapsed": false
   },
   "outputs": [],
   "source": [
    "#Run is in terminal after entering sub001 folder:\n",
    "#  1)\n",
    "#  tree BOLD/task001_run001\n",
    "#  2)\n",
    "#  tree anatomy/\n",
    "#  3)\n",
    "#  tree behav/task001_run001\n",
    "#  4)\n",
    "#  tree model/model001/onsets/task001_run001\n",
    "#  5)\n",
    "#  tree model/model002/onsets/task001_run001\n"
   ]
  },
  {
   "cell_type": "raw",
   "metadata": {},
   "source": [
    "# 1)\n",
    "BOLD/task001_run001\n",
    "├── QA\n",
    "│   ├── DVARS.png\n",
    "│   ├── QA_report.pdf\n",
    "│   ├── confound.txt\n",
    "│   ├── dvars.txt\n",
    "│   ├── fd.png\n",
    "│   ├── fd.txt\n",
    "│   ├── mad.png\n",
    "│   ├── maskmean.png\n",
    "│   ├── meanpsd.png\n",
    "│   ├── qadata.csv\n",
    "│   ├── spike.png\n",
    "│   ├── voxcv.png\n",
    "│   ├── voxmean.png\n",
    "│   └── voxsfnr.png\n",
    "├── bold.nii\n",
    "└── bold.nii.gz\n",
    "\n",
    "# 2)\n",
    "anatomy\n",
    "├── highres001.nii.gz\n",
    "├── highres001_brain.nii.gz\n",
    "├── highres001_brain_mask.nii.gz\n",
    "├── inplane001.nii.gz\n",
    "├── inplane001_brain.nii.gz\n",
    "└── inplane001_brain_mask.nii.gz\n",
    "\n",
    "# 3)\n",
    "behav/task001_run001\n",
    "└── behavdata.txt\n",
    "\n",
    "# 4)\n",
    "model/model001/onsets/task001_run001\n",
    "├── cond001.txt\n",
    "├── cond002.txt\n",
    "└── cond003.txt\n",
    "\n",
    "# 5)\n",
    "model/model002/onsets/task001_run001\n",
    "├── cond001.txt\n",
    "├── cond002.txt\n",
    "└── cond003.txt"
   ]
  },
  {
   "cell_type": "markdown",
   "metadata": {},
   "source": [
    "Commentary on the above structure:\n",
    "1. Explore for yourself some of the following:\n",
    " 1. that the model 001 and 002 files seem to be the same (iono why that might be)\n",
    " 2. BOLD directory (\"BOLD/QA\") also contains a lot of their images they produced for this individual (maybe try to reproduce?)"
   ]
  },
  {
   "cell_type": "markdown",
   "metadata": {},
   "source": [
    "### Exploring the behavdata.txt"
   ]
  },
  {
   "cell_type": "markdown",
   "metadata": {},
   "source": [
    "I've included already created files to combine all behavioral data into CSV files, and we can load these csv files with panda.\n",
    "Below is visual of the data:"
   ]
  },
  {
   "cell_type": "code",
   "execution_count": 10,
   "metadata": {
    "collapsed": false
   },
   "outputs": [
    {
     "ename": "FileNotFoundError",
     "evalue": "[Errno 2] No such file or directory: '/Users/BenjaminLeRoy/Desktop/1.Fall2015/Stat 159/project/processed_data/'",
     "output_type": "error",
     "traceback": [
      "\u001b[0;31m---------------------------------------------------------------------------\u001b[0m",
      "\u001b[0;31mFileNotFoundError\u001b[0m                         Traceback (most recent call last)",
      "\u001b[0;32m<ipython-input-10-06227242da2f>\u001b[0m in \u001b[0;36m<module>\u001b[0;34m()\u001b[0m\n\u001b[0;32m----> 1\u001b[0;31m \u001b[0mos\u001b[0m\u001b[0;34m.\u001b[0m\u001b[0mchdir\u001b[0m\u001b[0;34m(\u001b[0m\u001b[0mlocation_of_processed_data\u001b[0m\u001b[0;34m)\u001b[0m\u001b[0;34m\u001b[0m\u001b[0m\n\u001b[0m\u001b[1;32m      2\u001b[0m \u001b[0mbehav\u001b[0m\u001b[0;34m=\u001b[0m\u001b[0mpd\u001b[0m\u001b[0;34m.\u001b[0m\u001b[0mread_table\u001b[0m\u001b[0;34m(\u001b[0m\u001b[0;34m\"task001_run001_model_data_frame.csv\"\u001b[0m\u001b[0;34m,\u001b[0m\u001b[0msep\u001b[0m\u001b[0;34m=\u001b[0m\u001b[0;34m\",\"\u001b[0m\u001b[0;34m)\u001b[0m\u001b[0;34m\u001b[0m\u001b[0m\n\u001b[1;32m      3\u001b[0m \u001b[0mbehav\u001b[0m\u001b[0;34m.\u001b[0m\u001b[0mhead\u001b[0m\u001b[0;34m(\u001b[0m\u001b[0;36m5\u001b[0m\u001b[0;34m)\u001b[0m\u001b[0;34m\u001b[0m\u001b[0m\n",
      "\u001b[0;31mFileNotFoundError\u001b[0m: [Errno 2] No such file or directory: '/Users/BenjaminLeRoy/Desktop/1.Fall2015/Stat 159/project/processed_data/'"
     ]
    }
   ],
   "source": [
    "os.chdir(location_of_processed_data)\n",
    "behav=pd.read_table(\"task001_run001_model_data_frame.csv\",sep=\",\")\n",
    "behav.head(5)"
   ]
  },
  {
   "cell_type": "markdown",
   "metadata": {},
   "source": [
    "For BART, we just a have a few items in the Behavior data, and they all make a good amount of sense. Feel free to see the dictionary if you can't guess at them now (or read the pdf files).\n",
    "\n",
    "I will make comments about $\\texttt{NumExpl}$ and $\\texttt{NumTRs}$ later so try to figure these out at least :)"
   ]
  },
  {
   "cell_type": "markdown",
   "metadata": {},
   "source": [
    "## Loading in All the Libraries (and additional programs)"
   ]
  },
  {
   "cell_type": "markdown",
   "metadata": {},
   "source": [
    "I've also imported\n",
    "- events2neural which was done in class\n",
    "- present_3d a code I have already created, see the example later"
   ]
  },
  {
   "cell_type": "code",
   "execution_count": 11,
   "metadata": {
    "collapsed": false
   },
   "outputs": [
    {
     "ename": "FileNotFoundError",
     "evalue": "[Errno 2] No such file or directory: '/Users/BenjaminLeRoy/Desktop/test/4d_fmri/'",
     "output_type": "error",
     "traceback": [
      "\u001b[0;31m---------------------------------------------------------------------------\u001b[0m",
      "\u001b[0;31mFileNotFoundError\u001b[0m                         Traceback (most recent call last)",
      "\u001b[0;32m<ipython-input-11-929fa0a0126c>\u001b[0m in \u001b[0;36m<module>\u001b[0;34m()\u001b[0m\n\u001b[1;32m      1\u001b[0m \u001b[0;31m#location of my stimuli.py file\u001b[0m\u001b[0;34m\u001b[0m\u001b[0;34m\u001b[0m\u001b[0m\n\u001b[0;32m----> 2\u001b[0;31m \u001b[0mos\u001b[0m\u001b[0;34m.\u001b[0m\u001b[0mchdir\u001b[0m\u001b[0;34m(\u001b[0m\u001b[0mlocation_of_simuli\u001b[0m\u001b[0;34m)\u001b[0m\u001b[0;34m\u001b[0m\u001b[0m\n\u001b[0m\u001b[1;32m      3\u001b[0m \u001b[0;32mfrom\u001b[0m \u001b[0mstimuli\u001b[0m \u001b[0;32mimport\u001b[0m \u001b[0mevents2neural\u001b[0m\u001b[0;34m\u001b[0m\u001b[0m\n",
      "\u001b[0;31mFileNotFoundError\u001b[0m: [Errno 2] No such file or directory: '/Users/BenjaminLeRoy/Desktop/test/4d_fmri/'"
     ]
    }
   ],
   "source": [
    "#location of my stimuli.py file\n",
    "os.chdir(location_of_simuli)\n",
    "from stimuli import events2neural"
   ]
  },
  {
   "cell_type": "code",
   "execution_count": 12,
   "metadata": {
    "collapsed": false
   },
   "outputs": [
    {
     "ename": "FileNotFoundError",
     "evalue": "[Errno 2] No such file or directory: '/Users/BenjaminLeRoy/Desktop/1.Fall2015/Stat 159/project/python_code'",
     "output_type": "error",
     "traceback": [
      "\u001b[0;31m---------------------------------------------------------------------------\u001b[0m",
      "\u001b[0;31mFileNotFoundError\u001b[0m                         Traceback (most recent call last)",
      "\u001b[0;32m<ipython-input-12-5e04de58b0cc>\u001b[0m in \u001b[0;36m<module>\u001b[0;34m()\u001b[0m\n\u001b[1;32m      1\u001b[0m \u001b[0;31m#locating my Image_Visualizing.py file\u001b[0m\u001b[0;34m\u001b[0m\u001b[0;34m\u001b[0m\u001b[0m\n\u001b[0;32m----> 2\u001b[0;31m \u001b[0mos\u001b[0m\u001b[0;34m.\u001b[0m\u001b[0mchdir\u001b[0m\u001b[0;34m(\u001b[0m\u001b[0mlocation_of_present_3d\u001b[0m\u001b[0;34m)\u001b[0m\u001b[0;34m\u001b[0m\u001b[0m\n\u001b[0m\u001b[1;32m      3\u001b[0m \u001b[0;32mfrom\u001b[0m \u001b[0mImage_Visualizing\u001b[0m \u001b[0;32mimport\u001b[0m \u001b[0mpresent_3d\u001b[0m\u001b[0;34m\u001b[0m\u001b[0m\n",
      "\u001b[0;31mFileNotFoundError\u001b[0m: [Errno 2] No such file or directory: '/Users/BenjaminLeRoy/Desktop/1.Fall2015/Stat 159/project/python_code'"
     ]
    }
   ],
   "source": [
    "#locating my Image_Visualizing.py file\n",
    "os.chdir(location_of_present_3d)\n",
    "from Image_Visualizing import present_3d"
   ]
  },
  {
   "cell_type": "markdown",
   "metadata": {},
   "source": [
    "## Now for the actual loading of Files and a little Analysis"
   ]
  },
  {
   "cell_type": "markdown",
   "metadata": {},
   "source": [
    "There are some other observations below, that might be interesting to find"
   ]
  },
  {
   "cell_type": "code",
   "execution_count": 13,
   "metadata": {
    "collapsed": false
   },
   "outputs": [
    {
     "ename": "FileNotFoundError",
     "evalue": "[Errno 2] No such file or directory: '/Users/BenjaminLeRoy/Desktop/1.Fall2015/Stat 159/project/data/ds009/sub001/BOLD/task001_run001'",
     "output_type": "error",
     "traceback": [
      "\u001b[0;31m---------------------------------------------------------------------------\u001b[0m",
      "\u001b[0;31mFileNotFoundError\u001b[0m                         Traceback (most recent call last)",
      "\u001b[0;32m<ipython-input-13-4066ead09467>\u001b[0m in \u001b[0;36m<module>\u001b[0;34m()\u001b[0m\n\u001b[0;32m----> 1\u001b[0;31m \u001b[0mos\u001b[0m\u001b[0;34m.\u001b[0m\u001b[0mchdir\u001b[0m\u001b[0;34m(\u001b[0m\u001b[0mos\u001b[0m\u001b[0;34m.\u001b[0m\u001b[0mpath\u001b[0m\u001b[0;34m.\u001b[0m\u001b[0mjoin\u001b[0m\u001b[0;34m(\u001b[0m\u001b[0mlocation_of_subject001\u001b[0m\u001b[0;34m,\u001b[0m\u001b[0;34m\"BOLD/task001_run001\"\u001b[0m\u001b[0;34m)\u001b[0m\u001b[0;34m)\u001b[0m\u001b[0;34m\u001b[0m\u001b[0m\n\u001b[0m\u001b[1;32m      2\u001b[0m \u001b[0mimg\u001b[0m\u001b[0;34m=\u001b[0m\u001b[0mnib\u001b[0m\u001b[0;34m.\u001b[0m\u001b[0mload\u001b[0m\u001b[0;34m(\u001b[0m\u001b[0;34m\"bold.nii\"\u001b[0m\u001b[0;34m)\u001b[0m\u001b[0;34m\u001b[0m\u001b[0m\n\u001b[1;32m      3\u001b[0m \u001b[0mdata\u001b[0m\u001b[0;34m=\u001b[0m\u001b[0mimg\u001b[0m\u001b[0;34m.\u001b[0m\u001b[0mget_data\u001b[0m\u001b[0;34m(\u001b[0m\u001b[0;34m)\u001b[0m\u001b[0;34m\u001b[0m\u001b[0m\n\u001b[1;32m      4\u001b[0m \u001b[0;31m# data.shape # (64, 64, 34, 245)\u001b[0m\u001b[0;34m\u001b[0m\u001b[0;34m\u001b[0m\u001b[0m\n",
      "\u001b[0;31mFileNotFoundError\u001b[0m: [Errno 2] No such file or directory: '/Users/BenjaminLeRoy/Desktop/1.Fall2015/Stat 159/project/data/ds009/sub001/BOLD/task001_run001'"
     ]
    }
   ],
   "source": [
    "os.chdir(os.path.join(location_of_subject001,\"BOLD/task001_run001\"))\n",
    "img=nib.load(\"bold.nii\")\n",
    "data=img.get_data()\n",
    "# data.shape # (64, 64, 34, 245)"
   ]
  },
  {
   "cell_type": "code",
   "execution_count": 14,
   "metadata": {
    "collapsed": false
   },
   "outputs": [
    {
     "ename": "NameError",
     "evalue": "name 'data' is not defined",
     "output_type": "error",
     "traceback": [
      "\u001b[0;31m---------------------------------------------------------------------------\u001b[0m",
      "\u001b[0;31mNameError\u001b[0m                                 Traceback (most recent call last)",
      "\u001b[0;32m<ipython-input-14-c915d41200d4>\u001b[0m in \u001b[0;36m<module>\u001b[0;34m()\u001b[0m\n\u001b[1;32m      1\u001b[0m \u001b[0;31m# just a single 3d image to show case the present_3d function\u001b[0m\u001b[0;34m\u001b[0m\u001b[0;34m\u001b[0m\u001b[0m\n\u001b[0;32m----> 2\u001b[0;31m \u001b[0mthree_d_image\u001b[0m\u001b[0;34m=\u001b[0m\u001b[0mdata\u001b[0m\u001b[0;34m[\u001b[0m\u001b[0;34m...\u001b[0m\u001b[0;34m,\u001b[0m\u001b[0;36m0\u001b[0m\u001b[0;34m]\u001b[0m\u001b[0;34m\u001b[0m\u001b[0m\n\u001b[0m",
      "\u001b[0;31mNameError\u001b[0m: name 'data' is not defined"
     ]
    }
   ],
   "source": [
    "# just a single 3d image to show case the present_3d function\n",
    "three_d_image=data[...,0]"
   ]
  },
  {
   "cell_type": "code",
   "execution_count": null,
   "metadata": {
    "collapsed": false
   },
   "outputs": [],
   "source": [
    "# use of my specialized function\n",
    "full=present_3d(three_d_image)\n",
    "plt.imshow(full,cmap=\"gray\",interpolation=\"nearest\")\n",
    "plt.colorbar()"
   ]
  },
  {
   "cell_type": "markdown",
   "metadata": {},
   "source": [
    "## Data Exploration"
   ]
  },
  {
   "cell_type": "markdown",
   "metadata": {},
   "source": [
    "1) Is there a major problem in the beginning of the data?   \n",
    "  *we will come comment on this later"
   ]
  },
  {
   "cell_type": "code",
   "execution_count": null,
   "metadata": {
    "collapsed": false
   },
   "outputs": [],
   "source": [
    "# cut from middle of the brain\n",
    "test=data[32,32,15,:] # random voxel\n",
    "plt.plot(test) # doesn't look like there are problems in the morning"
   ]
  },
  {
   "cell_type": "markdown",
   "metadata": {},
   "source": [
    "2) Looking at the Conditions/ different types of events in scans"
   ]
  },
  {
   "cell_type": "code",
   "execution_count": null,
   "metadata": {
    "collapsed": false
   },
   "outputs": [],
   "source": [
    "# model (condition data) (will be used to create on/off switches)\n",
    "os.chdir(os.path.join(location_of_subject001,\"model/model001/onsets/task001_run001\"))\n",
    "cond1=np.loadtxt(\"cond001.txt\")\n",
    "cond2=np.loadtxt(\"cond002.txt\")\n",
    "cond3=np.loadtxt(\"cond003.txt\")"
   ]
  },
  {
   "cell_type": "code",
   "execution_count": null,
   "metadata": {
    "collapsed": false
   },
   "outputs": [],
   "source": [
    "# Looking at the first to understand values\n",
    "cond1[:10,:]"
   ]
  },
  {
   "cell_type": "markdown",
   "metadata": {},
   "source": [
    "If you remember, there are 3 different types of conditions for the BART trial: (regular, before pop, before save)\n",
    " - We already know how many times the first person popped the balloon (see above) *8*. So,... I'd bet money that we could figure out which is that one, and the regular should probably be the largest one. In the first draft of this I included some more analysis, but this is a pretty straight forward reason, so lets use it.\n",
    " - In the rest of my analysis not included here we saw different lengths of time between elements- and the paper says so as well, this is slightly annoying, but we can deal with it, because we have the start values."
   ]
  },
  {
   "cell_type": "code",
   "execution_count": null,
   "metadata": {
    "collapsed": false
   },
   "outputs": [],
   "source": [
    "for i in [cond1,cond2,cond3]:\n",
    "    print(i.shape)"
   ]
  },
  {
   "cell_type": "markdown",
   "metadata": {},
   "source": [
    "We should notice that the $\\texttt{NumTRs}$ in the behavior file (239) is different than the time dimension of the data (245).\n",
    "\n",
    "I've talked to Jarrod and he thinks the folks just cut out the first 6 recordings, which makes sense as a general practice, I didn't see any note of it anywhere, but Jarrod suggest looking for sumplimentary documents from the paper."
   ]
  },
  {
   "cell_type": "code",
   "execution_count": null,
   "metadata": {
    "collapsed": false
   },
   "outputs": [],
   "source": [
    "print(str(len(data[0,0,0,:]))+ \" is not equal to \" + str(behav[\"NumTRs\"][0])) # not the same"
   ]
  },
  {
   "cell_type": "markdown",
   "metadata": {},
   "source": [
    "3) Looking at conditional data in different fashions"
   ]
  },
  {
   "cell_type": "markdown",
   "metadata": {},
   "source": [
    "Problem with dimensions of fMRI data and numTRs"
   ]
  },
  {
   "cell_type": "code",
   "execution_count": null,
   "metadata": {
    "collapsed": false
   },
   "outputs": [],
   "source": [
    "events=events2neural(\"cond001.txt\",2,239) # 1s are non special events\n",
    "events=np.abs(events-1) # switching 0,1 to 1,0\n"
   ]
  },
  {
   "cell_type": "code",
   "execution_count": null,
   "metadata": {
    "collapsed": false
   },
   "outputs": [],
   "source": [
    "data_cut=data[...,6:]\n",
    "# data_cut.shape (64, 64, 34, 239)"
   ]
  },
  {
   "cell_type": "markdown",
   "metadata": {},
   "source": [
    "We should approach the rest that we can do, the the dimensions are the same :) "
   ]
  },
  {
   "cell_type": "markdown",
   "metadata": {},
   "source": [
    "### Visualizing when the 3 conditions happen:\n",
    "and that using only the event data will seperate condition 1 from condition 2 and 3"
   ]
  },
  {
   "cell_type": "code",
   "execution_count": null,
   "metadata": {
    "collapsed": false
   },
   "outputs": [],
   "source": [
    "x=np.hstack((cond1[:,0],cond2[:,0],cond3[:,0]))\n",
    "\n",
    "# specifying which condition they come from (0,1,2)\n",
    "y=np.zeros((cond1.shape[0]+cond2.shape[0]+cond3.shape[0],))\n",
    "y[cond1.shape[0]:]=1\n",
    "y[(cond1.shape[0]+cond2.shape[0]):]+=1\n",
    "\n",
    "xy=zip(x,y)\n",
    "xy_sorted=sorted(xy,key= lambda pair:pair[0]) #sorted by x values\n",
    "x_s,y_s=zip(*xy_sorted) # unzipping\n",
    "x_s_array=np.array([x for x in x_s])\n",
    "desired=(x_s_array[1:]-x_s_array[:-1]) \n",
    "# difference between the element before and itself (time delay)\n",
    "\n",
    "\n",
    "# setting up color coding for 3 different types of condition\n",
    "dictionary_color={0.:\"red\",1.:\"blue\",2.:\"green\"}\n",
    "colors=[dictionary_color[elem] for elem in y_s[:-1]]\n",
    "\n",
    "#plot\n",
    "plt.scatter(x_s_array[:-1]/2,desired,color=colors,label=\"starts of stimuli\")\n",
    "plt.plot(events*10,label=\"event neural stimili function\")\n",
    "#plt.plot(events*4) if it's hard to see with just the 10 function\n",
    "plt.xlabel(\"Time, by TR\")\n",
    "plt.ylabel(\"length of time to the next value\")\n",
    "plt.xlim(0-5,239+5)\n",
    "plt.legend(loc='lower right', shadow=True,fontsize=\"smaller\")\n",
    "plt.title(\"Just Checking\")"
   ]
  },
  {
   "cell_type": "code",
   "execution_count": null,
   "metadata": {
    "collapsed": true
   },
   "outputs": [],
   "source": []
  }
 ],
 "metadata": {
  "kernelspec": {
   "display_name": "Python 3",
   "language": "python",
   "name": "python3"
  },
  "language_info": {
   "codemirror_mode": {
    "name": "ipython",
    "version": 3
   },
   "file_extension": ".py",
   "mimetype": "text/x-python",
   "name": "python",
   "nbconvert_exporter": "python",
   "pygments_lexer": "ipython3",
   "version": "3.5.0"
  }
 },
 "nbformat": 4,
 "nbformat_minor": 0
}
